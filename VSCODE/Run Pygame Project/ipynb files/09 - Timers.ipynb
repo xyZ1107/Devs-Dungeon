{
 "cells": [
  {
   "cell_type": "markdown",
   "metadata": {},
   "source": [
    "# Timers\n",
    "<div style=width:65%>\n",
    "A lot of games require timers for an end-game condition, enemy dispersal frequency, etc. There are several ways to handle a timer. \n",
    "\n",
    "### pygame.time Module\n",
    "##### <span style=\"color:green\">Clock.get_time()</span>\n",
    "If you recall, a Clock object was created in the <code>init()</code> and stored in self.clock. We can get a lot of data from this object. The <code>get_time()</code> method provides the amount of time that has elapsed in milliseconds.\n",
    "</div>"
   ]
  },
  {
   "cell_type": "code",
   "execution_count": null,
   "metadata": {},
   "outputs": [],
   "source": [
    "#game.py file\n",
    "import pygame, sys\n",
    "from config import *\n",
    "\n",
    "class Game:\n",
    "    def __init__(self):\n",
    "        pygame.init()\n",
    "        self.screen = pygame.display.set_mode((WIDTH, HEIGHT))\n",
    "        self.clock = pygame.time.Clock() #clock object\n",
    "\n",
    "    def update(self):\n",
    "        print(self.clock.get_time()) #outputs the amount of time past from previous call\n",
    "\n",
    "    def run(self):\n",
    "        while True:\n",
    "            for event in pygame.event.get():\n",
    "                if event.type == pygame.QUIT:\n",
    "                    pygame.quit()\n",
    "                    sys.exit()\n",
    "                \n",
    "            self.screen.fill(\"black\")\n",
    "            self.update()\n",
    "            pygame.display.update()\n",
    "            self.clock.tick(FPS)\n",
    "\n",
    "if __name__ == \"__main__\":\n",
    "    game = Game()\n",
    "    game.run()"
   ]
  },
  {
   "cell_type": "markdown",
   "metadata": {},
   "source": [
    "Let's say that we want to output a message if 1 second has elapsed. 1s = 1000ms."
   ]
  },
  {
   "cell_type": "code",
   "execution_count": null,
   "metadata": {},
   "outputs": [],
   "source": [
    "#game.py file\n",
    "import pygame, sys\n",
    "from config import *\n",
    "\n",
    "class Game:\n",
    "    def __init__(self):\n",
    "        pygame.init()\n",
    "        self.screen = pygame.display.set_mode((WIDTH, HEIGHT))\n",
    "        self.clock = pygame.time.Clock() #clock object\n",
    "        self.totalTime = 0\n",
    "\n",
    "    def update(self):\n",
    "        self.totalTime += self.clock.get_time()\n",
    "        if self.totalTime > 1000:\n",
    "            self.totalTime = 0\n",
    "            print(\"1 second has past\")\n",
    "\n",
    "    def run(self):\n",
    "        while True:\n",
    "            for event in pygame.event.get():\n",
    "                if event.type == pygame.QUIT:\n",
    "                    pygame.quit()\n",
    "                    sys.exit()\n",
    "                \n",
    "            self.screen.fill(\"black\")\n",
    "            self.update()\n",
    "            pygame.display.update()\n",
    "            self.clock.tick(FPS)\n",
    "\n",
    "if __name__ == \"__main__\":\n",
    "    game = Game()\n",
    "    game.run()"
   ]
  },
  {
   "cell_type": "markdown",
   "metadata": {},
   "source": [
    "We can count seconds by using another variable to keep track of 1000ms elapsing."
   ]
  },
  {
   "cell_type": "code",
   "execution_count": null,
   "metadata": {},
   "outputs": [],
   "source": [
    "#game.py file\n",
    "import pygame, sys\n",
    "from config import *\n",
    "\n",
    "class Game:\n",
    "    def __init__(self):\n",
    "        pygame.init()\n",
    "        self.screen = pygame.display.set_mode((WIDTH, HEIGHT))\n",
    "        self.clock = pygame.time.Clock() #clock object\n",
    "        self.totalTime = 0\n",
    "        self.seconds = 0\n",
    "\n",
    "    def update(self):\n",
    "        self.totalTime += self.clock.get_time()\n",
    "        if self.totalTime > 1000:\n",
    "            self.totalTime = 0\n",
    "            self.seconds += 1\n",
    "            print(f\"{self.seconds} seconds have elapsed\")\n",
    "\n",
    "    def run(self):\n",
    "        while True:\n",
    "            for event in pygame.event.get():\n",
    "                if event.type == pygame.QUIT:\n",
    "                    pygame.quit()\n",
    "                    sys.exit()\n",
    "                \n",
    "            self.screen.fill(\"black\")\n",
    "            self.update()\n",
    "            pygame.display.update()\n",
    "            self.clock.tick(FPS)\n",
    "\n",
    "if __name__ == \"__main__\":\n",
    "    game = Game()\n",
    "    game.run()"
   ]
  }
 ],
 "metadata": {
  "kernelspec": {
   "display_name": "Python 3.10.8 64-bit",
   "language": "python",
   "name": "python3"
  },
  "language_info": {
   "codemirror_mode": {
    "name": "ipython",
    "version": 3
   },
   "file_extension": ".py",
   "mimetype": "text/x-python",
   "name": "python",
   "nbconvert_exporter": "python",
   "pygments_lexer": "ipython3",
   "version": "3.10.8"
  },
  "orig_nbformat": 4,
  "vscode": {
   "interpreter": {
    "hash": "aee8b7b246df8f9039afb4144a1f6fd8d2ca17a180786b69acc140d282b71a49"
   }
  }
 },
 "nbformat": 4,
 "nbformat_minor": 2
}
