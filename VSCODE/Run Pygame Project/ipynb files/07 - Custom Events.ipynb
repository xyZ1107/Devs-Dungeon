{
 "cells": [
  {
   "cell_type": "markdown",
   "metadata": {},
   "source": [
    "# Custom Events\n",
    "<div style=width:65%>\n",
    "When you have separate classes outside of the <code>Game</code> class, you might be wondering how you can get them to communicate with each other; enter custom events. Remember the <code>for event loop</code> inside of the main game loop? We can create custom events in other classes and handle them there.<br><br>\n",
    "\n",
    "<ol>\n",
    "    <li>Create a new event value</li>\n",
    "    <li>Post a new event with that value</li>\n",
    "    <li>Handle the new event in the event loop</li>\n",
    "</ol>\n",
    "\n",
    "##### <span style=\"color:green\">1. Create An Event Value</span>\n",
    "Each of the events have a specific numerical value as shown below. Note: All event constants below are called via <code>pygame.CONSTANT</code>. For example, <code>pygame.QUIT</code> where QUIT is an int constant:<br>\n",
    "</div>\n",
    "<div style=width:100%>\n",
    "\n",
    "<table>\n",
    "  <thead>\n",
    "    <tr style=\"horizontal-align:center\">\n",
    "      <th style=\"text-align:center\" bgcolor=\"#620062\" width=\"18%\">EVENT CONSTANT</th>\n",
    "      <th style=\"text-align:center\" bgcolor=\"#620062\" width=\"5%\">VALUE</th>\n",
    "      <th style=\"text-align:center\" bgcolor=\"#620062\" width=\"77%\">DESCRIPTION</th>\n",
    "    </tr>\n",
    "  </thead>\n",
    "  <tbody>\n",
    "    <tr>\n",
    "        <td align=\"center\"><code>QUIT</code></td>\n",
    "        <td align=\"center\">256</td>\n",
    "        <td>Occurs when the window close button is pressed or a key command that closes the application (CMD+Q on Mac or ALT+F4 on Windows, etc)</td>\n",
    "    </tr>\n",
    "    <tr>\n",
    "        <td align=\"center\"><code>KEYDOWN</code></td>\n",
    "        <td align=\"center\">768</td>\n",
    "        <td>Occurs when a key is pressed.</td>\n",
    "    </tr>\n",
    "    <tr>\n",
    "        <td align=\"center\"><code>KEYUP</code></td>\n",
    "        <td align=\"center\">769</td>\n",
    "        <td>Occurs when a key is released.</td>\n",
    "    </tr>\n",
    "    <tr>\n",
    "        <td align=\"center\"><code>MOUSEMOTION</code></td>\n",
    "        <td align=\"center\">1024</td>\n",
    "        <td>Occurs when the mouse is moved.</td>\n",
    "    </tr>\n",
    "    <tr>\n",
    "        <td align=\"center\"><code>MOUSEBUTTONDOWN</code></td>\n",
    "        <td align=\"center\">1025</td>\n",
    "        <td>Occurs when a key is pressed.</td>\n",
    "    </tr>\n",
    "    <tr>\n",
    "        <td align=\"center\"><code>MOUSEBUTTONUP</code></td>\n",
    "        <td align=\"center\">1026</td>\n",
    "        <td>Occurs when a key is released.</td>\n",
    "    </tr>\n",
    "    <tr>\n",
    "        <td align=\"center\"><code>WINDOWCLOSE</code></td>\n",
    "        <td align=\"center\">32787</td>\n",
    "        <td>Occurs when a Pygame window is closed.</td>\n",
    "    </tr>\n",
    "    <tr>\n",
    "        <td align=\"center\"><code>WINDOWHIDDEN</code></td>\n",
    "        <td align=\"center\">32775</td>\n",
    "        <td>Occurs when a Pygame window is hidden.</td>\n",
    "    </tr>\n",
    "    <tr>\n",
    "        <td align=\"center\"><code>WINDOWSHOWN</code></td>\n",
    "        <td align=\"center\">32774</td>\n",
    "        <td>Occurs when a Pygame window is shown.</td>\n",
    "    </tr>\n",
    "    <tr>\n",
    "        <td align=\"center\"><code>WINDOWFOCUSGAINED</code></td>\n",
    "        <td align=\"center\">32785</td>\n",
    "        <td>Occurs when a Pygame window is the currently active program. Let's say you were using Spotify, then clicked on your Pygame window. This is called a change in focus and now your Pygame app has regained the \"focus\".</td>\n",
    "    </tr>\n",
    "    <tr>\n",
    "        <td align=\"center\"><code>WINDOWFOCUSLOST</code></td>\n",
    "        <td align=\"center\">32786</td>\n",
    "        <td>Occurs when a Pygame window is not the currently active program. Let's say you were using your Pygame app, then clicked on Spotify. Pygame has lost \"focus\".</td>\n",
    "    </tr>\n",
    "\n",
    "  </tbody>\n",
    "</table>\n",
    "</div><br>\n",
    "<div style=width:65%>Note: There are many other types of events. You can see the list in the <a href=\"https://www.pygame.org/docs/ref/event.html\">Pygame Events API</a>.<br><br>\n",
    "\n",
    "To create your own custom event value, we need to access <code>pygame.USEREVENT</code> so that we don't use any event values already taken by the built-in Pygame events. For example, if we used 256 as our event value, that would be the same value as pygame.QUIT, which is not good. Event values need to be unique."
   ]
  },
  {
   "cell_type": "code",
   "execution_count": 1,
   "metadata": {},
   "outputs": [
    {
     "name": "stdout",
     "output_type": "stream",
     "text": [
      "pygame 2.1.2 (SDL 2.0.18, Python 3.10.8)\n",
      "Hello from the pygame community. https://www.pygame.org/contribute.html\n",
      "pygame.USEREVENT = 32850\n"
     ]
    }
   ],
   "source": [
    "import pygame\n",
    "print(f\"pygame.USEREVENT = {pygame.USEREVENT}\") #value of 32850"
   ]
  },
  {
   "cell_type": "markdown",
   "metadata": {},
   "source": [
    "<div style=width:65%>\n",
    "In the <code>config.py</code>, this is the perfect place to define a custom event ID. You will have to make sure that your <code>config.py</code> has an <code>import pygame</code> at the top. I'll create an event that detects if a rectangle has been clicked and has now disappeared.\n",
    "</div>"
   ]
  },
  {
   "cell_type": "code",
   "execution_count": null,
   "metadata": {},
   "outputs": [],
   "source": [
    "import pygame\n",
    "WIDTH, HEIGHT = (1280, 720)\n",
    "FPS = 60\n",
    "\n",
    "BLOCKGONE = pygame.USEREVENT + 0"
   ]
  },
  {
   "cell_type": "markdown",
   "metadata": {},
   "source": [
    "<div style=width:65%>\n",
    "If we needed to create another event, we would use <code>pygame.USEREVENT + 1</code>, then <code>pygame.USEREVENT + 2</code>, etc.\n",
    "</div>"
   ]
  },
  {
   "cell_type": "markdown",
   "metadata": {},
   "source": [
    "<div style=width:65%>\n",
    "\n",
    "##### <span style=\"color:green\">2. Post New Event</span>\n",
    "Posting an event adds it to the Pygame event queue. We post an event whenever we want to notify <code>game.py</code> about something that has taken place. Use the following code:<br><br>\n",
    "\n",
    "&nbsp;&nbsp;&nbsp;&nbsp; <code>pygame.event.post(pygame.event.Event(\\<custom event constant>))</code><br><br>\n",
    "\n",
    "For our <code>BLOCKGONE</code> custom event, the code would be <code>pygame.event.post(pygame.event.Event(BLOCKGONE))</code>\n",
    "\n",
    "</div>"
   ]
  },
  {
   "cell_type": "markdown",
   "metadata": {},
   "source": [
    "<div style=width:65%>\n",
    "\n",
    "##### <span style=\"color:green\">3. Handle the New Event</span>\n",
    "All events are handled in the event for loop in <code>game.py</code>. Copy and paste the code below into your own files:\n",
    "</div>"
   ]
  },
  {
   "cell_type": "code",
   "execution_count": null,
   "metadata": {},
   "outputs": [],
   "source": [
    "#paste into config.py\n",
    "import pygame\n",
    "\n",
    "WIDTH, HEIGHT = (1280, 720)\n",
    "FPS = 60\n",
    "\n",
    "BLOCKGONE = pygame.USEREVENT + 0 #custom event constant"
   ]
  },
  {
   "cell_type": "code",
   "execution_count": null,
   "metadata": {},
   "outputs": [],
   "source": [
    "#paste into a new file called block.py\n",
    "import pygame\n",
    "from config import *\n",
    "\n",
    "class Block(pygame.sprite.Sprite):\n",
    "    def __init__(self, position) -> None:\n",
    "        super().__init__()\n",
    "        self.image = pygame.image.load(\"07 - block.png\")\n",
    "        self.rect = self.image.get_rect()\n",
    "        self.rect.topleft = position\n",
    "    \n",
    "    def update(self):\n",
    "        isPressed = pygame.mouse.get_pressed()[0]\n",
    "        isCollided = self.rect.collidepoint(pygame.mouse.get_pos())\n",
    "\n",
    "        if isPressed and isCollided:\n",
    "            pygame.event.post(pygame.event.Event(BLOCKGONE)) #posts the custom BLOCKGONE event\n",
    "            self.kill() #removes itself from the blockGroup created in game.py"
   ]
  },
  {
   "cell_type": "code",
   "execution_count": null,
   "metadata": {},
   "outputs": [],
   "source": [
    "import pygame, sys, random\n",
    "from config import *\n",
    "from block import *\n",
    "\n",
    "class Game:\n",
    "    def __init__(self):\n",
    "        pygame.init()\n",
    "        self.screen = pygame.display.set_mode((WIDTH, HEIGHT))\n",
    "        self.clock = pygame.time.Clock()\n",
    "\n",
    "        self.points = 0 #each time a Block is clicked, points increment\n",
    "        self.blockGroup = pygame.sprite.Group()\n",
    "        \n",
    "        for i in range(10): #creates 10 Block objects and adds them to the blockGroup\n",
    "            self.createBlock()\n",
    "\n",
    "        self.font = pygame.font.SysFont(None, 40)\n",
    "\n",
    "    #creates a Block object at a random position and adds it to the blockGroup\n",
    "    def createBlock(self):\n",
    "        pos = (random.randint(0, WIDTH-50), random.randint(0, HEIGHT-50))\n",
    "        b = Block(pos)\n",
    "        self.blockGroup.add(b)\n",
    "\n",
    "    #draws the points only\n",
    "    def draw(self):\n",
    "        pointsSurf = self.font.render(f\"Points: {self.points}\", True, (255,255,255))\n",
    "        self.screen.blit(pointsSurf, (0,0))\n",
    "\n",
    "    def run(self):\n",
    "        while True:\n",
    "            for event in pygame.event.get():\n",
    "                if event.type == pygame.QUIT:\n",
    "                    pygame.quit()\n",
    "                    sys.exit()\n",
    "                elif event.type == BLOCKGONE: #handles the custom event posted in block.py\n",
    "                    self.points += 1\n",
    "                \n",
    "            self.screen.fill(\"black\")\n",
    "            self.blockGroup.update() #calls the update() function for all Block objects\n",
    "            self.blockGroup.draw(self.screen) #draws all Block objects onto the screen\n",
    "            self.draw()\n",
    "            pygame.display.update()\n",
    "            self.clock.tick(FPS)\n",
    "\n",
    "\n",
    "if __name__ == \"__main__\":\n",
    "    game = Game()\n",
    "    game.run()"
   ]
  }
 ],
 "metadata": {
  "kernelspec": {
   "display_name": "Python 3.10.8 64-bit",
   "language": "python",
   "name": "python3"
  },
  "language_info": {
   "codemirror_mode": {
    "name": "ipython",
    "version": 3
   },
   "file_extension": ".py",
   "mimetype": "text/x-python",
   "name": "python",
   "nbconvert_exporter": "python",
   "pygments_lexer": "ipython3",
   "version": "3.10.8"
  },
  "orig_nbformat": 4,
  "vscode": {
   "interpreter": {
    "hash": "aee8b7b246df8f9039afb4144a1f6fd8d2ca17a180786b69acc140d282b71a49"
   }
  }
 },
 "nbformat": 4,
 "nbformat_minor": 2
}
